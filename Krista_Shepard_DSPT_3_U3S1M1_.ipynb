{
  "nbformat": 4,
  "nbformat_minor": 0,
  "metadata": {
    "colab": {
      "name": "Krista Shepard DSPT 3 U3S1M1 .ipynb",
      "provenance": [],
      "collapsed_sections": [],
      "include_colab_link": true
    },
    "kernelspec": {
      "name": "python3",
      "display_name": "Python 3"
    }
  },
  "cells": [
    {
      "cell_type": "markdown",
      "metadata": {
        "id": "view-in-github",
        "colab_type": "text"
      },
      "source": [
        "<a href=\"https://colab.research.google.com/github/KryssyCo/DS-Unit-3-Sprint-1-Software-Engineering/blob/master/Krista_Shepard_DSPT_3_U3S1M1_.ipynb\" target=\"_parent\"><img src=\"https://colab.research.google.com/assets/colab-badge.svg\" alt=\"Open In Colab\"/></a>"
      ]
    },
    {
      "cell_type": "markdown",
      "metadata": {
        "id": "NHiokv7e1_Up",
        "colab_type": "text"
      },
      "source": [
        "## Importing package from test.pypi"
      ]
    },
    {
      "cell_type": "code",
      "metadata": {
        "id": "jAIz6XR12uQO",
        "colab_type": "code",
        "colab": {
          "base_uri": "https://localhost:8080/",
          "height": 207
        },
        "outputId": "ee5d6642-9c3c-42b1-c6a0-b27aa0eeff1e"
      },
      "source": [
        "pip install -i https://test.pypi.org/simple/ lambdata-kryssyco==0.0.2"
      ],
      "execution_count": 5,
      "outputs": [
        {
          "output_type": "stream",
          "text": [
            "Looking in indexes: https://test.pypi.org/simple/\n",
            "Collecting lambdata-kryssyco==0.0.2\n",
            "  Downloading https://test-files.pythonhosted.org/packages/81/82/a8c962e3e0e7e2ae9f519b6dc9a9869588b85e12e440ed8693eaecf05589/lambdata_kryssyco-0.0.2-py3-none-any.whl\n",
            "Requirement already satisfied: numpy in /usr/local/lib/python3.6/dist-packages (from lambdata-kryssyco==0.0.2) (1.17.3)\n",
            "Requirement already satisfied: pandas in /usr/local/lib/python3.6/dist-packages (from lambdata-kryssyco==0.0.2) (0.25.2)\n",
            "Requirement already satisfied: python-dateutil>=2.6.1 in /usr/local/lib/python3.6/dist-packages (from pandas->lambdata-kryssyco==0.0.2) (2.6.1)\n",
            "Requirement already satisfied: pytz>=2017.2 in /usr/local/lib/python3.6/dist-packages (from pandas->lambdata-kryssyco==0.0.2) (2018.9)\n",
            "Requirement already satisfied: six>=1.5 in /usr/local/lib/python3.6/dist-packages (from python-dateutil>=2.6.1->pandas->lambdata-kryssyco==0.0.2) (1.12.0)\n",
            "Installing collected packages: lambdata-kryssyco\n",
            "Successfully installed lambdata-kryssyco-0.0.2\n"
          ],
          "name": "stdout"
        }
      ]
    },
    {
      "cell_type": "code",
      "metadata": {
        "id": "Xe7_BIrC3cmW",
        "colab_type": "code",
        "colab": {
          "base_uri": "https://localhost:8080/",
          "height": 238
        },
        "outputId": "801b86be-24a7-400f-fe42-cf04281dec28"
      },
      "source": [
        "import lambdata_kryssyco\n",
        "dir(lambdata_kryssyco)"
      ],
      "execution_count": 13,
      "outputs": [
        {
          "output_type": "execute_result",
          "data": {
            "text/plain": [
              "['ONES',\n",
              " 'ZEROS',\n",
              " '__builtins__',\n",
              " '__cached__',\n",
              " '__doc__',\n",
              " '__file__',\n",
              " '__loader__',\n",
              " '__name__',\n",
              " '__package__',\n",
              " '__path__',\n",
              " '__spec__',\n",
              " 'np',\n",
              " 'pd']"
            ]
          },
          "metadata": {
            "tags": []
          },
          "execution_count": 13
        }
      ]
    }
  ]
}